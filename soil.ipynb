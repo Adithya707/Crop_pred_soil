{
 "cells": [
  {
   "cell_type": "code",
   "execution_count": 1,
   "metadata": {},
   "outputs": [],
   "source": [
    "#importing the required libraries\n",
    "import pandas as pd\n",
    "import numpy as np\n",
    "from sklearn.model_selection import train_test_split"
   ]
  },
  {
   "cell_type": "code",
   "execution_count": 2,
   "metadata": {},
   "outputs": [
    {
     "name": "stdout",
     "output_type": "stream",
     "text": [
      "   temperature   humidity        ph    rainfall label\n",
      "0    20.879744  82.002744  6.502985  202.935536  rice\n"
     ]
    }
   ],
   "source": [
    "#Reading the csv file\n",
    "data=pd.read_csv('cpdata.csv')\n",
    "print(data.head(1))"
   ]
  },
  {
   "cell_type": "code",
   "execution_count": 3,
   "metadata": {},
   "outputs": [
    {
     "name": "stdout",
     "output_type": "stream",
     "text": [
      "The data present in one row of the dataset is\n",
      "   temperature   humidity        ph    rainfall  Black gram  Chickpea  \\\n",
      "0    20.879744  82.002744  6.502985  202.935536           0         0   \n",
      "\n",
      "   Coconut  Coffee  Cotton  Ground Nut  ...  maize  mango  millet  muskmelon  \\\n",
      "0        0       0       0           0  ...      0      0       0          0   \n",
      "\n",
      "   orange  papaya  pomegranate  rice  watermelon  wheat  \n",
      "0       0       0            0     1           0      0  \n",
      "\n",
      "[1 rows x 34 columns]\n"
     ]
    }
   ],
   "source": [
    "#Creating dummy variable for target i.e label\n",
    "label= pd.get_dummies(data.label).iloc[: , 1:]\n",
    "data= pd.concat([data,label],axis=1)\n",
    "data.drop('label', axis=1,inplace=True)\n",
    "print('The data present in one row of the dataset is')\n",
    "print(data.head(1))\n",
    "train=data.iloc[:, 0:4].values\n",
    "test=data.iloc[: ,4:].values"
   ]
  },
  {
   "cell_type": "code",
   "execution_count": 4,
   "metadata": {},
   "outputs": [],
   "source": [
    "#Dividing the data into training and test set\n",
    "X_train,X_test,y_train,y_test=train_test_split(train,test,test_size=0.3)"
   ]
  },
  {
   "cell_type": "code",
   "execution_count": 5,
   "metadata": {},
   "outputs": [],
   "source": [
    "from sklearn.preprocessing import StandardScaler\n",
    "sc = StandardScaler()\n",
    "X_train = sc.fit_transform(X_train)\n",
    "X_test = sc.transform(X_test)"
   ]
  },
  {
   "cell_type": "code",
   "execution_count": 6,
   "metadata": {},
   "outputs": [],
   "source": [
    "#Importing Decision Tree classifier\n",
    "from sklearn.tree import DecisionTreeRegressor\n",
    "clf=DecisionTreeRegressor()"
   ]
  },
  {
   "cell_type": "code",
   "execution_count": 7,
   "metadata": {},
   "outputs": [],
   "source": [
    "#Fitting the classifier into training set\n",
    "clf.fit(X_train,y_train)\n",
    "pred=clf.predict(X_test)"
   ]
  },
  {
   "cell_type": "code",
   "execution_count": 8,
   "metadata": {},
   "outputs": [
    {
     "name": "stdout",
     "output_type": "stream",
     "text": [
      "The accuracy of this model is:  87.20430107526882\n"
     ]
    }
   ],
   "source": [
    "from sklearn.metrics import accuracy_score\n",
    "# Finding the accuracy of the model\n",
    "a=accuracy_score(y_test,pred)\n",
    "print(\"The accuracy of this model is: \", a*100)"
   ]
  },
  {
   "cell_type": "code",
   "execution_count": 10,
   "metadata": {},
   "outputs": [
    {
     "name": "stdout",
     "output_type": "stream",
     "text": [
      "Collecting python-firebase\n",
      "  Downloading python-firebase-1.2.tar.gz (10 kB)\n",
      "Requirement already satisfied: requests>=1.1.0 in /home/adihtya/anaconda3/lib/python3.8/site-packages (from python-firebase) (2.24.0)\n",
      "Requirement already satisfied: chardet<4,>=3.0.2 in /home/adihtya/anaconda3/lib/python3.8/site-packages (from requests>=1.1.0->python-firebase) (3.0.4)\n",
      "Requirement already satisfied: certifi>=2017.4.17 in /home/adihtya/anaconda3/lib/python3.8/site-packages (from requests>=1.1.0->python-firebase) (2020.6.20)\n",
      "Requirement already satisfied: idna<3,>=2.5 in /home/adihtya/anaconda3/lib/python3.8/site-packages (from requests>=1.1.0->python-firebase) (2.10)\n",
      "Requirement already satisfied: urllib3!=1.25.0,!=1.25.1,<1.26,>=1.21.1 in /home/adihtya/anaconda3/lib/python3.8/site-packages (from requests>=1.1.0->python-firebase) (1.25.9)\n",
      "Building wheels for collected packages: python-firebase\n",
      "  Building wheel for python-firebase (setup.py) ... \u001b[?25ldone\n",
      "\u001b[?25h  Created wheel for python-firebase: filename=python_firebase-1.2-py3-none-any.whl size=11533 sha256=2ba37cca5f8dbb6bd6f485c88dd08cf59daa091778621d278215961a7a061dd7\n",
      "  Stored in directory: /home/adihtya/.cache/pip/wheels/73/23/37/f54d62a02ee475ccc69f294e04f4a9f77ebcb54a2615bdcf28\n",
      "Successfully built python-firebase\n",
      "Installing collected packages: python-firebase\n",
      "Successfully installed python-firebase-1.2\n",
      "Collecting firebase\n",
      "  Downloading firebase-3.0.1-py3-none-any.whl (18 kB)\n",
      "Requirement already satisfied: requests in /home/adihtya/anaconda3/lib/python3.8/site-packages (from firebase) (2.24.0)\n",
      "Requirement already satisfied: idna<3,>=2.5 in /home/adihtya/anaconda3/lib/python3.8/site-packages (from requests->firebase) (2.10)\n",
      "Requirement already satisfied: urllib3!=1.25.0,!=1.25.1,<1.26,>=1.21.1 in /home/adihtya/anaconda3/lib/python3.8/site-packages (from requests->firebase) (1.25.9)\n",
      "Requirement already satisfied: certifi>=2017.4.17 in /home/adihtya/anaconda3/lib/python3.8/site-packages (from requests->firebase) (2020.6.20)\n",
      "Requirement already satisfied: chardet<4,>=3.0.2 in /home/adihtya/anaconda3/lib/python3.8/site-packages (from requests->firebase) (3.0.4)\n",
      "Installing collected packages: firebase\n",
      "Successfully installed firebase-3.0.1\n"
     ]
    }
   ],
   "source": [
    "!pip3 install python-firebase\n",
    "!pip3 install firebase "
   ]
  },
  {
   "cell_type": "code",
   "execution_count": 12,
   "metadata": {},
   "outputs": [
    {
     "name": "stdout",
     "output_type": "stream",
     "text": [
      "Collecting python-jwt\n",
      "  Downloading python_jwt-3.3.0-py2.py3-none-any.whl (6.8 kB)\n",
      "Collecting jwcrypto>=0.8\n",
      "  Downloading jwcrypto-0.8-py2.py3-none-any.whl (79 kB)\n",
      "\u001b[K     |████████████████████████████████| 79 kB 618 kB/s eta 0:00:01\n",
      "\u001b[?25hRequirement already satisfied: cryptography>=2.3 in /home/adihtya/anaconda3/lib/python3.8/site-packages (from jwcrypto>=0.8->python-jwt) (2.9.2)\n",
      "Requirement already satisfied: cffi!=1.11.3,>=1.8 in /home/adihtya/anaconda3/lib/python3.8/site-packages (from cryptography>=2.3->jwcrypto>=0.8->python-jwt) (1.14.0)\n",
      "Requirement already satisfied: six>=1.4.1 in /home/adihtya/anaconda3/lib/python3.8/site-packages (from cryptography>=2.3->jwcrypto>=0.8->python-jwt) (1.14.0)\n",
      "Requirement already satisfied: pycparser in /home/adihtya/anaconda3/lib/python3.8/site-packages (from cffi!=1.11.3,>=1.8->cryptography>=2.3->jwcrypto>=0.8->python-jwt) (2.20)\n",
      "Installing collected packages: jwcrypto, python-jwt\n",
      "Successfully installed jwcrypto-0.8 python-jwt-3.3.0\n",
      "Collecting gcloud\n",
      "  Downloading gcloud-0.18.3.tar.gz (454 kB)\n",
      "\u001b[K     |████████████████████████████████| 454 kB 2.1 MB/s eta 0:00:01\n",
      "\u001b[?25hRequirement already satisfied: httplib2>=0.9.1 in /home/adihtya/anaconda3/lib/python3.8/site-packages (from gcloud) (0.19.1)\n",
      "Requirement already satisfied: googleapis-common-protos in /home/adihtya/anaconda3/lib/python3.8/site-packages (from gcloud) (1.53.0)\n",
      "Requirement already satisfied: oauth2client>=2.0.1 in /home/adihtya/anaconda3/lib/python3.8/site-packages (from gcloud) (4.1.3)\n",
      "Requirement already satisfied: protobuf!=3.0.0.b2.post1,>=3.0.0b2 in /home/adihtya/anaconda3/lib/python3.8/site-packages (from gcloud) (3.14.0)\n",
      "Requirement already satisfied: six in /home/adihtya/anaconda3/lib/python3.8/site-packages (from gcloud) (1.14.0)\n",
      "Requirement already satisfied: pyparsing<3,>=2.4.2 in /home/adihtya/anaconda3/lib/python3.8/site-packages (from httplib2>=0.9.1->gcloud) (2.4.7)\n",
      "Requirement already satisfied: rsa>=3.1.4 in /home/adihtya/anaconda3/lib/python3.8/site-packages (from oauth2client>=2.0.1->gcloud) (4.6)\n",
      "Requirement already satisfied: pyasn1>=0.1.7 in /home/adihtya/anaconda3/lib/python3.8/site-packages (from oauth2client>=2.0.1->gcloud) (0.4.8)\n",
      "Requirement already satisfied: pyasn1-modules>=0.0.5 in /home/adihtya/anaconda3/lib/python3.8/site-packages (from oauth2client>=2.0.1->gcloud) (0.2.8)\n",
      "Building wheels for collected packages: gcloud\n",
      "  Building wheel for gcloud (setup.py) ... \u001b[?25ldone\n",
      "\u001b[?25h  Created wheel for gcloud: filename=gcloud-0.18.3-py3-none-any.whl size=602937 sha256=f273a0fccc48e952d8494ea9cd97b733c432ec0f6e7bc442c561f14b86cc0bb3\n",
      "  Stored in directory: /home/adihtya/.cache/pip/wheels/86/05/94/4ad6324debd4e3edba7fdf252f1ff2d2aba09673a794e67a27\n",
      "Successfully built gcloud\n",
      "Installing collected packages: gcloud\n",
      "Successfully installed gcloud-0.18.3\n",
      "Collecting sseclient\n",
      "  Downloading sseclient-0.0.27.tar.gz (7.5 kB)\n",
      "Requirement already satisfied: requests>=2.9 in /home/adihtya/anaconda3/lib/python3.8/site-packages (from sseclient) (2.24.0)\n",
      "Requirement already satisfied: six in /home/adihtya/anaconda3/lib/python3.8/site-packages (from sseclient) (1.14.0)\n",
      "Requirement already satisfied: urllib3!=1.25.0,!=1.25.1,<1.26,>=1.21.1 in /home/adihtya/anaconda3/lib/python3.8/site-packages (from requests>=2.9->sseclient) (1.25.9)\n",
      "Requirement already satisfied: idna<3,>=2.5 in /home/adihtya/anaconda3/lib/python3.8/site-packages (from requests>=2.9->sseclient) (2.10)\n",
      "Requirement already satisfied: certifi>=2017.4.17 in /home/adihtya/anaconda3/lib/python3.8/site-packages (from requests>=2.9->sseclient) (2020.6.20)\n",
      "Requirement already satisfied: chardet<4,>=3.0.2 in /home/adihtya/anaconda3/lib/python3.8/site-packages (from requests>=2.9->sseclient) (3.0.4)\n",
      "Building wheels for collected packages: sseclient\n",
      "  Building wheel for sseclient (setup.py) ... \u001b[?25ldone\n",
      "\u001b[?25h  Created wheel for sseclient: filename=sseclient-0.0.27-py3-none-any.whl size=5571 sha256=75f630766f12615de89442fa4a115b58ef08665569b0254c670f0baeccec484d\n",
      "  Stored in directory: /home/adihtya/.cache/pip/wheels/f9/12/8e/90bd3f4c38f3a0c17681ce222e7762743164876d6dbf04ab71\n",
      "Successfully built sseclient\n",
      "Installing collected packages: sseclient\n",
      "Successfully installed sseclient-0.0.27\n",
      "Collecting pycrypto\n",
      "  Downloading pycrypto-2.6.1.tar.gz (446 kB)\n",
      "\u001b[K     |████████████████████████████████| 446 kB 2.0 MB/s eta 0:00:01\n",
      "\u001b[?25hBuilding wheels for collected packages: pycrypto\n",
      "  Building wheel for pycrypto (setup.py) ... \u001b[?25ldone\n",
      "\u001b[?25h  Created wheel for pycrypto: filename=pycrypto-2.6.1-cp38-cp38-linux_x86_64.whl size=499303 sha256=d86e8b61bd34ab9c2981e876ced03be8575cc57dee7cef70ae7224d41ec41357\n",
      "  Stored in directory: /home/adihtya/.cache/pip/wheels/d0/99/d0/0298ea019d63f1d63a0965b9944b719e875f9bd6ffc6dcf293\n",
      "Successfully built pycrypto\n",
      "Installing collected packages: pycrypto\n",
      "Successfully installed pycrypto-2.6.1\n",
      "Collecting requests-toolbelt\n",
      "  Downloading requests_toolbelt-0.9.1-py2.py3-none-any.whl (54 kB)\n",
      "\u001b[K     |████████████████████████████████| 54 kB 106 kB/s eta 0:00:011\n",
      "\u001b[?25hRequirement already satisfied: requests<3.0.0,>=2.0.1 in /home/adihtya/anaconda3/lib/python3.8/site-packages (from requests-toolbelt) (2.24.0)\n",
      "Requirement already satisfied: urllib3!=1.25.0,!=1.25.1,<1.26,>=1.21.1 in /home/adihtya/anaconda3/lib/python3.8/site-packages (from requests<3.0.0,>=2.0.1->requests-toolbelt) (1.25.9)\n",
      "Requirement already satisfied: chardet<4,>=3.0.2 in /home/adihtya/anaconda3/lib/python3.8/site-packages (from requests<3.0.0,>=2.0.1->requests-toolbelt) (3.0.4)\n",
      "Requirement already satisfied: certifi>=2017.4.17 in /home/adihtya/anaconda3/lib/python3.8/site-packages (from requests<3.0.0,>=2.0.1->requests-toolbelt) (2020.6.20)\n",
      "Requirement already satisfied: idna<3,>=2.5 in /home/adihtya/anaconda3/lib/python3.8/site-packages (from requests<3.0.0,>=2.0.1->requests-toolbelt) (2.10)\n",
      "Installing collected packages: requests-toolbelt\n",
      "Successfully installed requests-toolbelt-0.9.1\n"
     ]
    }
   ],
   "source": [
    "!pip install python-jwt\n",
    "!pip install gcloud\n",
    "!pip install sseclient\n",
    "!pip install pycrypto\n",
    "!pip install requests-toolbelt"
   ]
  },
  {
   "cell_type": "code",
   "execution_count": 13,
   "metadata": {},
   "outputs": [],
   "source": [
    "#Using firebase to import data to be tested\n",
    "from firebase import firebase\n",
    "firebase =firebase.FirebaseApplication('https://cropit-eb156.firebaseio.com/')\n",
    "tp=firebase.get('/Realtime',None)"
   ]
  },
  {
   "cell_type": "code",
   "execution_count": 14,
   "metadata": {},
   "outputs": [],
   "source": [
    "ah=tp['Air Humidity']\n",
    "atemp=tp['Air Temp']\n",
    "shum=tp['Soil Humidity']\n",
    "pH=tp['Soil pH']\n",
    "rain=tp['Rainfall']"
   ]
  },
  {
   "cell_type": "code",
   "execution_count": 15,
   "metadata": {},
   "outputs": [],
   "source": [
    "l=[]\n",
    "l.append(ah)\n",
    "l.append(atemp)\n",
    "l.append(pH)\n",
    "l.append(rain)\n",
    "predictcrop=[l]"
   ]
  },
  {
   "cell_type": "code",
   "execution_count": 16,
   "metadata": {},
   "outputs": [],
   "source": [
    "# Putting the names of crop in a single list\n",
    "crops=['wheat','mungbean','Tea','millet','maize','lentil','jute','cofee','cotton','ground nut','peas','rubber','sugarcane','tobacco','kidney beans','moth beans','coconut','blackgram','adzuki beans','pigeon peas','chick peas','banana','grapes','apple','mango','muskmelon','orange','papaya','watermelon','pomegranate']\n",
    "cr='rice'"
   ]
  },
  {
   "cell_type": "code",
   "execution_count": 17,
   "metadata": {},
   "outputs": [
    {
     "name": "stdout",
     "output_type": "stream",
     "text": [
      "The predicted crop is mango\n"
     ]
    }
   ],
   "source": [
    "#Predicting the crop\n",
    "predictions = clf.predict(predictcrop)\n",
    "count=0\n",
    "for i in range(0,30):\n",
    "    if(predictions[0][i]==1):\n",
    "        c=crops[i]\n",
    "        count=count+1\n",
    "        break;\n",
    "    i=i+1\n",
    "if(count==0):\n",
    "    print('The predicted crop is %s'%cr)\n",
    "else:\n",
    "    print('The predicted crop is %s'%c)\n",
    "\n",
    "#Sending the predicted crop to database\n",
    "cp=firebase.put('/croppredicted','crop',c)"
   ]
  }
 ],
 "metadata": {
  "kernelspec": {
   "display_name": "Python 3",
   "language": "python",
   "name": "python3"
  },
  "language_info": {
   "codemirror_mode": {
    "name": "ipython",
    "version": 3
   },
   "file_extension": ".py",
   "mimetype": "text/x-python",
   "name": "python",
   "nbconvert_exporter": "python",
   "pygments_lexer": "ipython3",
   "version": "3.8.3"
  }
 },
 "nbformat": 4,
 "nbformat_minor": 4
}
